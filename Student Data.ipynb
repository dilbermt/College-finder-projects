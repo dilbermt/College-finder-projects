{
 "cells": [
  {
   "cell_type": "code",
   "execution_count": 3,
   "id": "fcdb684e",
   "metadata": {},
   "outputs": [
    {
     "name": "stdout",
     "output_type": "stream",
     "text": [
      "Welcome\n",
      "Enter Student Name :f\n",
      "Standard: 2\n",
      "Division: a\n",
      "Roll No. :3\n",
      "Enter Marks in 50\n",
      "Physics : 40\n",
      "Chemistry : 50\n",
      "Mathematics : 45\n",
      "Your Percentage Score\n",
      "Physics : 80.0\n",
      "Chemistry : 100.0\n",
      "Mathematics : 90.0\n"
     ]
    }
   ],
   "source": [
    "print(\"Welcome\")\n",
    "name = str(input(\"Enter Student Name :\"))\n",
    "std = int(input(\"Standard: \"))\n",
    "div = str(input(\"Division: \"))\n",
    "roll = int(input(\"Roll No. :\"))\n",
    "# Input marks from student\n",
    "print(\"Enter Marks in 50\")\n",
    "phy = int(input(\"Physics : \"))\n",
    "chem = int(input(\"Chemistry : \"))\n",
    "math = int(input(\"Mathematics : \"))\n",
    "# percentage marks\n",
    "print(\"Your Percentage Score\")\n",
    "phypercent = str((phy/50)*100)\n",
    "chempercent = str((chem/50)*100)\n",
    "mathpercent = str((math/50)*100)\n",
    "print(\"Physics : \" + phypercent +\"\\n\" + \"Chemistry : \" + chempercent + \"\\n\" + \"Mathematics : \" + mathpercent)"
   ]
  },
  {
   "cell_type": "code",
   "execution_count": null,
   "id": "8dec2767",
   "metadata": {},
   "outputs": [],
   "source": []
  }
 ],
 "metadata": {
  "kernelspec": {
   "display_name": "Python 3",
   "language": "python",
   "name": "python3"
  },
  "language_info": {
   "codemirror_mode": {
    "name": "ipython",
    "version": 3
   },
   "file_extension": ".py",
   "mimetype": "text/x-python",
   "name": "python",
   "nbconvert_exporter": "python",
   "pygments_lexer": "ipython3",
   "version": "3.8.8"
  }
 },
 "nbformat": 4,
 "nbformat_minor": 5
}
